{
 "cells": [
  {
   "cell_type": "markdown",
   "id": "cd1224bf-b37f-41ac-baaa-3a5a65d908d2",
   "metadata": {},
   "source": [
    "# Loading the book"
   ]
  },
  {
   "cell_type": "code",
   "execution_count": 22,
   "id": "f48d1c36-7412-4f13-8c34-6db8e1c7adff",
   "metadata": {},
   "outputs": [],
   "source": [
    "with open(\"miracle_in_the_andes.txt\", \"r\", encoding = \"utf-8\") as file:\n",
    "    book = file.read()"
   ]
  },
  {
   "cell_type": "code",
   "execution_count": 24,
   "id": "a05f6022-d824-4a94-bda5-eddefd2d0f90",
   "metadata": {},
   "outputs": [
    {
     "data": {
      "text/plain": [
       "str"
      ]
     },
     "execution_count": 24,
     "metadata": {},
     "output_type": "execute_result"
    }
   ],
   "source": [
    "type(book)"
   ]
  },
  {
   "cell_type": "markdown",
   "id": "db0dd42e-ea4d-439f-a0a5-4724ce1b0b00",
   "metadata": {},
   "source": [
    "## How many chapters?"
   ]
  },
  {
   "cell_type": "markdown",
   "id": "d9481a6e-464a-4a0a-ae84-489eb8fee195",
   "metadata": {},
   "source": [
    "### With string methods"
   ]
  },
  {
   "cell_type": "code",
   "execution_count": 3,
   "id": "03d029c7-244f-41b4-9f2e-21fce1fa7a03",
   "metadata": {},
   "outputs": [
    {
     "data": {
      "text/plain": [
       "11"
      ]
     },
     "execution_count": 3,
     "metadata": {},
     "output_type": "execute_result"
    }
   ],
   "source": [
    "book.count(\"Chapter\")"
   ]
  },
  {
   "cell_type": "markdown",
   "id": "79287856-e28b-4137-9248-c45638c06ca2",
   "metadata": {},
   "source": [
    "### With regex"
   ]
  },
  {
   "cell_type": "code",
   "execution_count": 25,
   "id": "83c827d3-0a02-49fd-b0cb-7947ac0a1321",
   "metadata": {},
   "outputs": [],
   "source": [
    "import re"
   ]
  },
  {
   "cell_type": "code",
   "execution_count": 5,
   "id": "5239079b-36ff-4ef1-8169-e0029267e581",
   "metadata": {},
   "outputs": [
    {
     "data": {
      "text/plain": [
       "10"
      ]
     },
     "execution_count": 5,
     "metadata": {},
     "output_type": "execute_result"
    }
   ],
   "source": [
    "pattern = re.compile(\"Chapter [0-9]+\")\n",
    "findings = re.findall(pattern, book)\n",
    "len(findings)"
   ]
  },
  {
   "cell_type": "markdown",
   "id": "d3c789d0-5b9e-41f4-9f9d-26b988461368",
   "metadata": {},
   "source": [
    "# Which are the sentences where \"love\" was used?"
   ]
  },
  {
   "cell_type": "code",
   "execution_count": 35,
   "id": "7cbb745c-1a52-4bd5-b6f4-56ae784d34f0",
   "metadata": {},
   "outputs": [
    {
     "data": {
      "text/plain": [
       "[' As a young man, of course, I could not put these things into words, but I knew, and my teammates knew, that there was something special about the game, and under the guidance of the Christian Brothers we developed a passionate love ',\n",
       " ' Guido and I grew up together, playing soccer and sharing a love ',\n",
       " ' Under the guidance of the Christian Brothers, both of us grew to love ',\n",
       " ' That rowdiness came to an abrupt end for Guido in 1969, when he met and fell in love ',\n",
       " ' I believe he had a great hunger for the love a',\n",
       " ' He shared, with my father and me, a love ',\n",
       " ' The house had a beautiful view of the sea, and this more than anything made my mother love ',\n",
       " ' She was a true tower of strength, but her strength was always based in warmth and love and because of her love a',\n",
       " ' He had given us a life of comfort and privilege such as his own father never could have imagined, he had provided for us and protected us in the best way he could, and though he was not an emotionally expressive man, he always showed his love ',\n",
       " ' Out of love ',\n",
       " ' Susy shared my mother’s love ',\n",
       " ' When she was sixteen she spent a year as an exchange student living with a family in Florida, an experience that taught her to love ',\n",
       " ' As I lay beside her, the sweetness of my love ',\n",
       " ' I pressed my cheek against hers so I could feel her warm breath on my face, and held her that way all night, gently, but very close, never letting go, embracing her as if I were embracing all the love a',\n",
       " ' I felt my love ',\n",
       " '\\n\\nIn the days after Susy died, my love ',\n",
       " '\\n\\nThinking of my father this way always triggered in me a burst of love ',\n",
       " ' Bobby, are you warm enough? Do you want me to rub your feet?” She worried constantly about the children she had left at home, but still she had the courage and love ',\n",
       " ' It was our job to follow His commandments, to take the sacraments, to love God and to love ',\n",
       " ' I would think of him and let my heart fill with love for him, and this love ',\n",
       " ' After two weeks on the mountain, my love ',\n",
       " ' “All we can do is love God and love ',\n",
       " ' Even if we are trapped here forever, we can love ',\n",
       " '\\n\\n“You will tell my family that I love ',\n",
       " ' But he lived so many lifetimes, had so many adventures, and, macho, he made love ',\n",
       " ' The shoes were magical for me because my mother had chosen them with such love ',\n",
       " ' My love ',\n",
       " ' Only love ',\n",
       " ' I would walk through the godforsaken country that separated me from my home with love a',\n",
       " ' But still, still, I longed for the very things I knew I would never have—the love ',\n",
       " ' My ordeal had simplified my mind and whittled me down very close to the essence of what I was, and now I saw that this longing, this love a',\n",
       " ' In seconds she was in my arms, and my heart swelled with love a',\n",
       " '”\\n\\nThere was so much I wanted to tell him, that I had thought of him every moment, that his love ',\n",
       " ' Where should I begin? “I love ',\n",
       " ' She stepped off the train with only a backpack and a small duffel, looking very beautiful, and I fell in love ',\n",
       " ' Until then, I had thought I could never love anything as much as I loved my wife, but when I gazed into my baby’s face, I was struck senseless by my love ',\n",
       " ' I felt a sudden, staggering sense of gratitude for the rich joys of my life—I had been given so much love a',\n",
       " ' He was never an openly affectionate man, but I never doubted his love ',\n",
       " ' When I was in the mountains, stranded in the shadows of death, that love ',\n",
       " ' As long as I held on to that love, I was not lost, I was connected to my home and to my future, and in the end it was that strong cord of love ',\n",
       " ' There was love, the love in my heart, and for one incredible moment, as I felt this love ',\n",
       " ' I love ',\n",
       " ' I believe life should be enjoyed, but my experiences have taught me that without the love ',\n",
       " ' I savor them and let each one become a miniature eternity, and by living these small moments of my life so fully, I defy the shadow of death that hovers over all of us, I reaffirm my love a',\n",
       " ' I open myself to it, I try to direct that tide of love ',\n",
       " ' In the mountains, it was love ',\n",
       " ' I had no expertise to draw on, so I relied upon the trust I felt in my love ',\n",
       " ' Now I am convinced that if there is something divine in the universe, the only way I will find it is through the love I',\n",
       " ' I have tried to love ']"
      ]
     },
     "execution_count": 35,
     "metadata": {},
     "output_type": "execute_result"
    }
   ],
   "source": [
    "# at the start search for everything except for period (.)\n",
    "pattern = re.compile(\"[^.]* love [azA-Z]*\")\n",
    "findings = re.findall(pattern, book)\n",
    "findings"
   ]
  },
  {
   "cell_type": "code",
   "execution_count": null,
   "id": "e1ea1289-1cf9-42f4-a722-d0fe54466f5d",
   "metadata": {},
   "outputs": [],
   "source": []
  }
 ],
 "metadata": {
  "kernelspec": {
   "display_name": "Python 3 (ipykernel)",
   "language": "python",
   "name": "python3"
  },
  "language_info": {
   "codemirror_mode": {
    "name": "ipython",
    "version": 3
   },
   "file_extension": ".py",
   "mimetype": "text/x-python",
   "name": "python",
   "nbconvert_exporter": "python",
   "pygments_lexer": "ipython3",
   "version": "3.12.0"
  }
 },
 "nbformat": 4,
 "nbformat_minor": 5
}
